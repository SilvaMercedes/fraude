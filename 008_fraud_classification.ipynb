{
 "cells": [
  {
   "cell_type": "markdown",
   "id": "0fd20f5b",
   "metadata": {},
   "source": [
    "<div align=\"center\">\n",
    "    <img src='https://media-exp1.licdn.com/dms/image/C561BAQFV4oU27rzxaQ/company-background_10000/0/1562869489836?e=2147483647&v=beta&t=OMHL6Izxqw7r8S5fn9gDQM1hNMKgo3yqMlH1F3Iwm9o' style='height:300px;'>\n",
    "</div>\n",
    "\n",
    "\n",
    "<center><h1 style='font-size:35px'>Clasificación de fraudes</h1></center>\n",
    "\n",
    "---\n",
    "\n",
    "**Fecha de creación: 27/07/2022**\n",
    "\n",
    "**Grupo: fraud detection (2)**\n",
    "\n",
    "**Integrantes**:\n",
    "* Maria Mercedes Silva\n",
    "* Agustin Trulli\n",
    "* Ernesto Romero\n",
    "\n",
    "**Resumen**\n",
    "\n",
    "El objetivo del presente notebook es probar diferentes alternativas para entrenar un modelo de aprendizaje automático capaz de predecir transacciones fraudulentas realizadas con una tarjeta de credito."
   ]
  },
  {
   "cell_type": "markdown",
   "id": "bf10126c",
   "metadata": {},
   "source": [
    "# Setup inicial"
   ]
  },
  {
   "cell_type": "code",
   "execution_count": 2,
   "id": "03593efe",
   "metadata": {},
   "outputs": [],
   "source": [
    "import json\n",
    "import os\n",
    "import warnings\n",
    "import time\n",
    "\n",
    "import pandas as pd\n",
    "import plotly.express as px\n",
    "import matplotlib.pyplot as plt \n",
    "from sklearn.model_selection import train_test_split, GridSearchCV\n",
    "from sklearn.linear_model import LogisticRegression\n",
    "from sklearn.ensemble import RandomForestClassifier\n",
    "from sklearn.metrics import (f1_score, precision_score, recall_score, \n",
    "                             roc_auc_score, plot_confusion_matrix)\n",
    "\n",
    "warnings.filterwarnings('ignore')"
   ]
  },
  {
   "cell_type": "code",
   "execution_count": 3,
   "id": "a5ada33c",
   "metadata": {},
   "outputs": [],
   "source": [
    "# Reading data\n",
    "ROOT_PATH = os.path.dirname(os.getcwd())\n",
    "DATA_PATH = os.path.join(ROOT_PATH, 'data', 'raw')\n",
    "\n",
    "df1 = pd.read_csv(os.path.join(DATA_PATH, 'fraud_data_pt1.csv'), index_col=0)\n",
    "df2 = pd.read_csv(os.path.join(DATA_PATH, 'fraud_data_pt12.csv'), index_col=0)\n",
    "\n",
    "df = pd.concat([df1, df2], ignore_index=True)\n",
    "\n",
    "del df1, df2"
   ]
  },
  {
   "cell_type": "markdown",
   "id": "2863c233",
   "metadata": {},
   "source": [
    "# Preprocesamiento"
   ]
  },
  {
   "cell_type": "markdown",
   "id": "700cd9d4",
   "metadata": {},
   "source": [
    "### Creamos la feature 'last_hour_transactions'."
   ]
  },
  {
   "cell_type": "code",
   "execution_count": 12,
   "id": "35b1ebde",
   "metadata": {},
   "outputs": [],
   "source": [
    "def acc_hour_1(df):\n",
    "    print('Calculating the accumulate fraud cases in the last hour for {} payments.'.format(df.shape[0]))\n",
    "    start = time.time()\n",
    "    df_time = df.Time.to_numpy()\n",
    "    df_filtered = df[['Time', 'Class']]\n",
    "    response = [] \n",
    "    for t in df_time:\n",
    "        df_t = df_filtered[(df_filtered.Time > (t -3600)) & (df_filtered.Time <= t)]\n",
    "        if df_t.Class.value_counts()[0] == df_t.shape[0]:\n",
    "            response.append(0)\n",
    "        else:\n",
    "            response.append(df_t.Class.value_counts()[1])\n",
    "    end = time.time()\n",
    "    print('Returning response. Elpased time:', end - start)\n",
    "    return response"
   ]
  },
  {
   "cell_type": "code",
   "execution_count": 13,
   "id": "03714cee",
   "metadata": {},
   "outputs": [
    {
     "name": "stdout",
     "output_type": "stream",
     "text": [
      "Calculating the accumulate fraud cases in the last hour for 284807 payments.\n",
      "Returning response. Elpased time: 441.8873653411865\n"
     ]
    }
   ],
   "source": [
    "df['last_hour_transactions'] = acc_hour_1(df)"
   ]
  },
  {
   "cell_type": "markdown",
   "id": "43581e63",
   "metadata": {},
   "source": [
    "# Entrenamiento del modelo\n",
    "\n",
    "**Aspectos generales**:\n",
    "\n",
    "* Vamos a entrenar Random Forest y Logistic Regression\n",
    "* Elejimos AuCRoc, Precission, Recall y F1Score como metricas. Accuraccy no es adecuada para sets de datos desbalanceados como este.\n",
    "* Balancearemos las clases mediante el parámetro 'class_weight' presente en muchos de los modelos de Sklearn e incluso otras librerias de Machine Learning. A grandes rasgos, este parámetro realiza una ponderación en la función de costo a partir de la frecuencia de las clases: Hace que una clasificación erronea de una clase minoritaria (el fraude en nuestro caso) sea más penalizado que un error de clasificación de clase mayoritaria.\n",
    "\n",
    "*ref*: https://www.analyticsvidhya.com/blog/2020/10/improve-class-imbalance-class-weights/)"
   ]
  },
  {
   "cell_type": "code",
   "execution_count": 15,
   "id": "91a1b719",
   "metadata": {},
   "outputs": [],
   "source": [
    "df_train, df_test = train_test_split(df, test_size=0.3, random_state=42)\n",
    "\n",
    "target = 'Class'\n",
    "\n",
    "X_train = df_train.drop(target, axis=1)\n",
    "y_train = df_train[[target]]\n",
    "X_test = df_test.drop(target, axis=1)\n",
    "y_test = df_test[[target]]"
   ]
  },
  {
   "cell_type": "markdown",
   "id": "2f304b98",
   "metadata": {},
   "source": [
    "## Utils"
   ]
  },
  {
   "cell_type": "code",
   "execution_count": 16,
   "id": "15b62db3",
   "metadata": {},
   "outputs": [],
   "source": [
    "def process_metrics(y_true, y_pred, y_proba):\n",
    "    \"\"\"Compute metrics based on model predictions.\n",
    "        Args:\n",
    "            - y_true: ground truth.\n",
    "            - y_pred: prediction.\n",
    "            - y_proba: predict probabilities.\n",
    "        Returns:\n",
    "            - metrics: dictionary with all computed metrics.\n",
    "    \"\"\"\n",
    "    metrics = {}\n",
    "\n",
    "    metrics['precision_score'] = precision_score(y_true, y_pred)\n",
    "    metrics['recall_score'] = recall_score(y_true, y_pred)\n",
    "    metrics['f1_score'] = f1_score(y_true, y_pred)\n",
    "    metrics['roc_auc_score'] = roc_auc_score(y_true, y_proba[:, 1])\n",
    "\n",
    "    return metrics"
   ]
  },
  {
   "cell_type": "code",
   "execution_count": 17,
   "id": "6c26f801",
   "metadata": {},
   "outputs": [],
   "source": [
    "def run_experiment(predictor):\n",
    "    \"\"\"Run the base experiment for all the models.\n",
    "       Args:\n",
    "           - predictor: predictor instance.\n",
    "       Returns:\n",
    "           - Experiment metrics.\n",
    "    \"\"\"\n",
    "    # Training model\n",
    "    predictor.fit(X_train, y_train)\n",
    "\n",
    "    # Train predictions\n",
    "    y_train_pred = predictor.predict(X_train)\n",
    "    y_train_proba = predictor.predict_proba(X_train)\n",
    "\n",
    "    # Test predictions\n",
    "    y_test_pred = predictor.predict(X_test)\n",
    "    y_test_proba = predictor.predict_proba(X_test)\n",
    "\n",
    "    # Computing train and test metrics\n",
    "    metrics = {}\n",
    "    metrics['train_metrics'] = process_metrics(y_train, y_train_pred, y_train_proba)\n",
    "    metrics['test_metrics'] = process_metrics(y_test, y_test_pred, y_test_proba)\n",
    "    \n",
    "    return metrics, y_test_pred"
   ]
  },
  {
   "cell_type": "code",
   "execution_count": 18,
   "id": "0b96f48e",
   "metadata": {},
   "outputs": [],
   "source": [
    "def plot_train_and_test_cm(predictor):\n",
    "    \"\"\"Plot train and test confusion matrix\n",
    "       Args:\n",
    "           - Sklearn predictor\n",
    "    \"\"\"\n",
    "    fig, axes = plt.subplots(nrows=1, ncols=2, figsize=(10,8))\n",
    "\n",
    "    plot_confusion_matrix(predictor, X_train, y_train, ax=axes[0], cmap='Blues', colorbar=False)\n",
    "    axes[0].title.set_text('Train matrix')\n",
    "    plot_confusion_matrix(predictor, X_test, y_test, ax=axes[1], cmap='Blues', colorbar=False)\n",
    "    axes[1].title.set_text('Test matrix')"
   ]
  },
  {
   "cell_type": "code",
   "execution_count": 19,
   "id": "aa010d89",
   "metadata": {},
   "outputs": [],
   "source": [
    "def print_as_json(dic):\n",
    "    print(json.dumps(dic, indent=4))"
   ]
  },
  {
   "cell_type": "markdown",
   "id": "59129679",
   "metadata": {},
   "source": [
    "## Logistic Regression\n",
    "\n",
    "https://scikit-learn.org/stable/modules/generated/sklearn.linear_model.LogisticRegression.html"
   ]
  },
  {
   "cell_type": "markdown",
   "id": "615589e7",
   "metadata": {},
   "source": [
    "### Sin balancear"
   ]
  },
  {
   "cell_type": "code",
   "execution_count": 20,
   "id": "ca60ebb3",
   "metadata": {},
   "outputs": [
    {
     "name": "stdout",
     "output_type": "stream",
     "text": [
      "Wall time: 19.2 s\n"
     ]
    }
   ],
   "source": [
    "%%time\n",
    "imb_lr_predictor = LogisticRegression(random_state=42, n_jobs=-1)\n",
    "\n",
    "imb_lr_metrics, imb_lr_test_preds = run_experiment(imb_lr_predictor)"
   ]
  },
  {
   "cell_type": "code",
   "execution_count": 21,
   "id": "e7182c11",
   "metadata": {},
   "outputs": [
    {
     "name": "stdout",
     "output_type": "stream",
     "text": [
      "Metricas obtenidas:\n",
      "{\n",
      "    \"train_metrics\": {\n",
      "        \"precision_score\": 0.678082191780822,\n",
      "        \"recall_score\": 0.5561797752808989,\n",
      "        \"f1_score\": 0.611111111111111,\n",
      "        \"roc_auc_score\": 0.8896865390539324\n",
      "    },\n",
      "    \"test_metrics\": {\n",
      "        \"precision_score\": 0.6422764227642277,\n",
      "        \"recall_score\": 0.5808823529411765,\n",
      "        \"f1_score\": 0.6100386100386102,\n",
      "        \"roc_auc_score\": 0.9171092435004645\n",
      "    }\n",
      "}\n"
     ]
    }
   ],
   "source": [
    "print('Metricas obtenidas:')\n",
    "print_as_json(imb_lr_metrics)"
   ]
  },
  {
   "cell_type": "code",
   "execution_count": 22,
   "id": "61400125",
   "metadata": {},
   "outputs": [
    {
     "data": {
      "image/png": "[encoded data removed]",
      "text/plain": [
       "<Figure size 720x576 with 2 Axes>"
      ]
     },
     "metadata": {
      "needs_background": "light"
     },
     "output_type": "display_data"
    }
   ],
   "source": [
    "plot_train_and_test_cm(imb_lr_predictor)"
   ]
  },
  {
   "cell_type": "markdown",
   "id": "dd71bdf3",
   "metadata": {},
   "source": [
    "### Balanceado"
   ]
  },
  {
   "cell_type": "code",
   "execution_count": 23,
   "id": "11d2183f",
   "metadata": {},
   "outputs": [
    {
     "name": "stdout",
     "output_type": "stream",
     "text": [
      "Wall time: 16 s\n"
     ]
    }
   ],
   "source": [
    "%%time\n",
    "bal_lr_predictor = LogisticRegression(random_state=42, class_weight='balanced', n_jobs=-1)\n",
    "\n",
    "bal_lr_metrics, bal_lr_test_preds = run_experiment(bal_lr_predictor)"
   ]
  },
  {
   "cell_type": "code",
   "execution_count": 24,
   "id": "d3504c91",
   "metadata": {},
   "outputs": [
    {
     "name": "stdout",
     "output_type": "stream",
     "text": [
      "{\n",
      "    \"train_metrics\": {\n",
      "        \"precision_score\": 0.04585280373831776,\n",
      "        \"recall_score\": 0.8820224719101124,\n",
      "        \"f1_score\": 0.08717379233759023,\n",
      "        \"roc_auc_score\": 0.9723911852789839\n",
      "    },\n",
      "    \"test_metrics\": {\n",
      "        \"precision_score\": 0.042219952332311884,\n",
      "        \"recall_score\": 0.9117647058823529,\n",
      "        \"f1_score\": 0.08070289619264563,\n",
      "        \"roc_auc_score\": 0.9815006819659651\n",
      "    }\n",
      "}\n"
     ]
    }
   ],
   "source": [
    "print_as_json(bal_lr_metrics)"
   ]
  },
  {
   "cell_type": "code",
   "execution_count": 25,
   "id": "070655e3",
   "metadata": {},
   "outputs": [
    {
     "data": {
      "image/png": "[encoded data removed]",
      "text/plain": [
       "<Figure size 720x576 with 2 Axes>"
      ]
     },
     "metadata": {
      "needs_background": "light"
     },
     "output_type": "display_data"
    }
   ],
   "source": [
    "plot_train_and_test_cm(bal_lr_predictor)"
   ]
  },
  {
   "cell_type": "markdown",
   "id": "00839ee4",
   "metadata": {},
   "source": [
    "**Como podemos ver, el modelo balanceado es capaz de encontrar una mayor cantidad de fraudes, pero a costa de un mayor número de falsos positivos. Sería un buen ejercicio evaluar el impacto de estos falsos positivos y parangonar el mismo con el $ que nos ahorrariamos por cada fraude.**"
   ]
  },
  {
   "cell_type": "markdown",
   "id": "d2001173",
   "metadata": {},
   "source": [
    "## Random Forest \n",
    "\n",
    "https://scikit-learn.org/stable/modules/generated/sklearn.ensemble.RandomForestClassifier.html"
   ]
  },
  {
   "cell_type": "markdown",
   "id": "f0314856",
   "metadata": {},
   "source": [
    "### Sin balancear"
   ]
  },
  {
   "cell_type": "code",
   "execution_count": 26,
   "id": "51666479",
   "metadata": {},
   "outputs": [
    {
     "name": "stdout",
     "output_type": "stream",
     "text": [
      "Wall time: 27.3 s\n"
     ]
    }
   ],
   "source": [
    "%%time\n",
    "imb_rf_predictor = RandomForestClassifier(max_depth=10, n_jobs=-1, random_state=42)\n",
    "\n",
    "imb_rf_metrics, imb_rf_test_preds = run_experiment(imb_rf_predictor)"
   ]
  },
  {
   "cell_type": "code",
   "execution_count": 27,
   "id": "61ea97c6",
   "metadata": {},
   "outputs": [
    {
     "name": "stdout",
     "output_type": "stream",
     "text": [
      "{\n",
      "    \"train_metrics\": {\n",
      "        \"precision_score\": 1.0,\n",
      "        \"recall_score\": 0.8230337078651685,\n",
      "        \"f1_score\": 0.9029275808936826,\n",
      "        \"roc_auc_score\": 0.9944664016668745\n",
      "    },\n",
      "    \"test_metrics\": {\n",
      "        \"precision_score\": 0.9553571428571429,\n",
      "        \"recall_score\": 0.7867647058823529,\n",
      "        \"f1_score\": 0.8629032258064515,\n",
      "        \"roc_auc_score\": 0.978755967202195\n",
      "    }\n",
      "}\n"
     ]
    }
   ],
   "source": [
    "print_as_json(imb_rf_metrics)"
   ]
  },
  {
   "cell_type": "code",
   "execution_count": 28,
   "id": "c8471344",
   "metadata": {},
   "outputs": [
    {
     "data": {
      "image/png": "[encoded data removed]",
      "text/plain": [
       "<Figure size 720x576 with 2 Axes>"
      ]
     },
     "metadata": {
      "needs_background": "light"
     },
     "output_type": "display_data"
    }
   ],
   "source": [
    "plot_train_and_test_cm(imb_rf_predictor)"
   ]
  },
  {
   "cell_type": "markdown",
   "id": "5ed270b0",
   "metadata": {},
   "source": [
    "### Balanceado"
   ]
  },
  {
   "cell_type": "code",
   "execution_count": 29,
   "id": "8009a94e",
   "metadata": {},
   "outputs": [
    {
     "name": "stdout",
     "output_type": "stream",
     "text": [
      "Wall time: 24.3 s\n"
     ]
    }
   ],
   "source": [
    "%%time\n",
    "bal_rf_predictor = RandomForestClassifier(max_depth=10, class_weight='balanced', \n",
    "                                          n_jobs=-1, random_state=42)\n",
    "\n",
    "bal_rf_metrics, bal_rf_test_preds = run_experiment(bal_rf_predictor)"
   ]
  },
  {
   "cell_type": "code",
   "execution_count": 30,
   "id": "3445fd93",
   "metadata": {},
   "outputs": [
    {
     "name": "stdout",
     "output_type": "stream",
     "text": [
      "{\n",
      "    \"train_metrics\": {\n",
      "        \"precision_score\": 0.9020618556701031,\n",
      "        \"recall_score\": 0.9831460674157303,\n",
      "        \"f1_score\": 0.9408602150537635,\n",
      "        \"roc_auc_score\": 0.9999588549091133\n",
      "    },\n",
      "    \"test_metrics\": {\n",
      "        \"precision_score\": 0.8529411764705882,\n",
      "        \"recall_score\": 0.8529411764705882,\n",
      "        \"f1_score\": 0.8529411764705882,\n",
      "        \"roc_auc_score\": 0.985125694808853\n",
      "    }\n",
      "}\n"
     ]
    }
   ],
   "source": [
    "print_as_json(bal_rf_metrics)"
   ]
  },
  {
   "cell_type": "code",
   "execution_count": 31,
   "id": "993d0995",
   "metadata": {},
   "outputs": [
    {
     "data": {
      "image/png": "[encoded data removed]",
      "text/plain": [
       "<Figure size 720x576 with 2 Axes>"
      ]
     },
     "metadata": {
      "needs_background": "light"
     },
     "output_type": "display_data"
    }
   ],
   "source": [
    "plot_train_and_test_cm(bal_rf_predictor)"
   ]
  },
  {
   "cell_type": "markdown",
   "id": "93b4d3d8",
   "metadata": {},
   "source": [
    "El RandomForest balanceado mejora la performance, aumentando un poco la cantidad de fraudes encontrados a costa de una despreciable cantidad de falsos positivos.\n",
    "\n",
    "**Como era de esperar, la performance de RandomForest es muy superior a la de la regresión logística en cuanto a la cantidad de falsos positivos. El primero de estos no supone una relación lineal entre variables y es capaz de encontrar relaciones mas complejas en los datos, construyendo pronteras de decisión no lineales (entre otras)**."
   ]
  },
  {
   "cell_type": "markdown",
   "id": "fc23626c",
   "metadata": {},
   "source": [
    "## Usando GridSearch para busqueda hiperparamétrica\n",
    "\n",
    "Grid Search es una tecnica de aprendizaje automático para encontra el conjunto de hiperparámetros de un modelo que mejor performa en función de una métrica en particular. En palabras mas sencillas, probará todas las combinaciones de hiperparámetros que le indiquemos y se quedará con aquella que maximice (o minimice) la métrica elegida.\n",
    "\n",
    "El GridSearchCV de Sklearn, como su nombre lo indica, posee una particularidad: Realiza Cross-validation sobre el conjunto de datos de entrenamiento.\n",
    "\n",
    "Una intuición sencilla sobre como funciona cross-validation:\n",
    "\n",
    "<div align=\"center\">\n",
    "    <img src='https://upload.wikimedia.org/wikipedia/commons/f/f2/K-fold_cross_validation.jpg' style=\\'height:300px;'>\n",
    "</div>\n",
    "\n",
    "A grandes rasgos, cross validation le permite al modelo realizar una mayor *generalización* sobre los datos de entrada. Nos permite generar modelos 'mas robustos' y métricas 'mas confiables'.\n",
    "\n",
    "*ref. https://scikit-learn.org/stable/modules/generated/sklearn.model_selection.GridSearchCV.html*"
   ]
  },
  {
   "cell_type": "code",
   "execution_count": null,
   "id": "9f8731da",
   "metadata": {},
   "outputs": [],
   "source": [
    "%%time\n",
    "# Ejemplo sencillo de una optimización con grid search\n",
    "# Nota: Grid Search hace una busqueda bruta (prueba todo), \n",
    "# otros optimizadores como Optuna pueden resultar mas apropiados para datasets grandes.\n",
    "params = {\n",
    "    'n_estimators': [50, 100, 200, 300],\n",
    "    'max_depth': [5, 10, 20, 30],\n",
    "    'class_weight': ['balanced']\n",
    "}\n",
    "\n",
    "grid_search_rf_clf = GridSearchCV(\n",
    "    estimator=RandomForestClassifier(),\n",
    "    param_grid=params,\n",
    "    scoring='f1',\n",
    "    cv=3,\n",
    "    return_train_score=True,\n",
    "    n_jobs=-1\n",
    ")\n",
    "\n",
    "grid_search_rf_metrics = run_experiment(grid_search_rf_clf)"
   ]
  },
  {
   "cell_type": "code",
   "execution_count": null,
   "id": "aa534cae",
   "metadata": {},
   "outputs": [],
   "source": [
    "grid_search_rf_metrics"
   ]
  },
  {
   "cell_type": "markdown",
   "id": "acca008e",
   "metadata": {},
   "source": [
    "### Mejor conjunto de hiperparámetros encontrado"
   ]
  },
  {
   "cell_type": "code",
   "execution_count": null,
   "id": "1c250004",
   "metadata": {},
   "outputs": [],
   "source": [
    "grid_search_rf_clf.best_params_"
   ]
  },
  {
   "cell_type": "markdown",
   "id": "a8931fe4",
   "metadata": {},
   "source": [
    "### Detalle de las metricas por fold (cross-val)"
   ]
  },
  {
   "cell_type": "code",
   "execution_count": null,
   "id": "9402def9",
   "metadata": {},
   "outputs": [],
   "source": [
    "selected_cols = ['rank_test_score', 'mean_fit_time', 'param_max_depth', 'param_n_estimators',\n",
    "                 'split0_test_score', 'split1_test_score', 'split2_test_score', 'mean_test_score']\n",
    "\n",
    "cv_results = pd.DataFrame(grid_search_rf_clf.cv_results_)[selected_cols]\n",
    "cv_results.sort_values(by='rank_test_score')"
   ]
  },
  {
   "cell_type": "markdown",
   "id": "1a9e3a64",
   "metadata": {},
   "source": [
    "### Matriz de confusion"
   ]
  },
  {
   "cell_type": "code",
   "execution_count": null,
   "id": "315c8159",
   "metadata": {},
   "outputs": [],
   "source": [
    "plot_train_and_test_cm(grid_search_rf_clf)"
   ]
  },
  {
   "cell_type": "markdown",
   "id": "b0ff0601",
   "metadata": {},
   "source": [
    "La optimización hiperparamétrica no altera prácticamente nada los resultados obtenidos previamente. Este esta overfiteado."
   ]
  },
  {
   "cell_type": "markdown",
   "id": "ba2595bc",
   "metadata": {},
   "source": [
    "# Buscando una métrica de negocio (KPI)\n",
    "\n",
    "Análisis realizado sobre el conjunto de test."
   ]
  },
  {
   "cell_type": "code",
   "execution_count": null,
   "id": "de9e2ff7",
   "metadata": {},
   "outputs": [],
   "source": [
    "df_preds = df_test[['Amount', 'Class']].rename(columns={\n",
    "    'Amount': 'amount',\n",
    "    'Class': 'y_true'\n",
    "}).copy()\n",
    "\n",
    "df_preds['imb_lr_pred'] = imb_lr_test_preds\n",
    "df_preds['bal_lr_pred'] = bal_lr_test_preds\n",
    "df_preds['imb_rf_pred'] = imb_rf_test_preds\n",
    "df_preds['bal_rf_pred'] = bal_rf_test_preds"
   ]
  },
  {
   "cell_type": "code",
   "execution_count": null,
   "id": "30424147",
   "metadata": {},
   "outputs": [],
   "source": [
    "imb_lr = (df_preds.y_true == 1) & (df_preds.imb_lr_pred == 1)\n",
    "bal_lr = (df_preds.y_true == 1) & (df_preds.bal_lr_pred == 1)\n",
    "imb_rf = (df_preds.y_true == 1) & (df_preds.imb_rf_pred == 1)\n",
    "bal_rf = (df_preds.y_true == 1) & (df_preds.bal_rf_pred == 1)\n",
    "\n",
    "imb_lr_amount = df_preds[imb_lr].amount.sum()\n",
    "bal_lr_amount = df_preds[bal_lr].amount.sum()\n",
    "imb_rf_amount = df_preds[imb_rf].amount.sum()\n",
    "bal_rf_amount = df_preds[bal_rf].amount.sum()\n",
    "\n",
    "print(f'Monto de fraudes encontrados por Logistic Regression (sin balancear): ${round(imb_lr_amount, 2)}\\n')\n",
    "print(f'Monto de fraudes encontrados por Logistic Regression (balanceada): ${round(bal_lr_amount, 2)}\\n')\n",
    "print(f'Monto de fraudes encontrados por Random Forest (sin balancear): ${round(imb_rf_amount, 2)}\\n')\n",
    "print(f'Monto de fraudes encontrados por Random Forest (balanceado): ${round(bal_rf_amount, 2)}')"
   ]
  },
  {
   "cell_type": "markdown",
   "id": "28295265",
   "metadata": {},
   "source": [
    "**Si bien el Random Forest presenta una pequeña diferencia con la LR balanceada, hay que tener en cuenta el costo generado por los falsos positivos.**"
   ]
  },
  {
   "cell_type": "code",
   "execution_count": null,
   "id": "22cbc615",
   "metadata": {},
   "outputs": [],
   "source": [
    "monto_bajo = df_preds.amount <= 30\n",
    "monto_medio = (df_preds.amount > 30) & (df_preds.amount <= 50)\n",
    "monto_alto = df_preds.amount > 50\n",
    "\n",
    "df_preds.loc[monto_bajo, 'amount_type'] = 'low'\n",
    "df_preds.loc[monto_medio, 'amount_type'] = 'intermediate'\n",
    "df_preds.loc[monto_alto, 'amount_type'] = 'high'\n",
    "\n",
    "imb_lr_frauds = df_preds[imb_lr].amount_type.value_counts().to_frame()\n",
    "imb_lr_frauds['model'] = 'Imbalanced LR'\n",
    "\n",
    "bal_lr_frauds = df_preds[bal_lr].amount_type.value_counts().to_frame()\n",
    "bal_lr_frauds['model'] = 'Balanced LR'\n",
    "\n",
    "imb_rf_frauds = df_preds[imb_rf].amount_type.value_counts().to_frame()\n",
    "imb_rf_frauds['model'] = 'Imbalanced RF'\n",
    "\n",
    "bal_rf_frauds = df_preds[bal_rf].amount_type.value_counts().to_frame()\n",
    "bal_rf_frauds['model'] = 'Balanced RF'\n",
    "\n",
    "df_frauds = pd.concat([imb_lr_frauds, bal_lr_frauds, imb_rf_frauds, bal_rf_frauds])\n",
    "df_frauds = df_frauds.reset_index().rename(columns={\n",
    "    'index': 'amount_type',\n",
    "    'amount_type': 'n_frauds'\n",
    "})"
   ]
  },
  {
   "cell_type": "code",
   "execution_count": null,
   "id": "689d3485",
   "metadata": {},
   "outputs": [],
   "source": [
    "fig = px.bar(df_frauds, x='model', y='n_frauds', \n",
    "             color='amount_type', barmode='group', text='n_frauds')\n",
    "\n",
    "fig.update_traces(textfont_size=12, textposition=\"outside\")\n",
    "\n",
    "fig.update_layout(\n",
    "    title='Amount type distribution per model prediction',\n",
    "    xaxis_title='Model',\n",
    "    yaxis_title='Frauds amount',\n",
    "    legend_title='Amount type',\n",
    ")\n",
    "\n",
    "fig.show()"
   ]
  },
  {
   "cell_type": "markdown",
   "id": "c0e241c3",
   "metadata": {},
   "source": [
    "No se observa una diferencia significativa en el tipo de fraude encontrado en el set de test."
   ]
  },
  {
   "cell_type": "markdown",
   "id": "35175cdf",
   "metadata": {},
   "source": [
    "<center><h1 style='font-size:35px'>Preguntas</h1></center>\n",
    "\n",
    "* -"
   ]
  },
  {
   "cell_type": "markdown",
   "id": "ec1e3ea3",
   "metadata": {},
   "source": [
    "<center><h1 style='font-size:35px'>Conclusiones</h1></center>\n",
    "\n",
    "* El modelo balanceado de LR es capaz de encontrar una mayor cantidad de fraudes, pero a costa de un mayor número de falsos positivos. Sería un buen ejercicio evaluar el impacto de estos falsos positivos y parangonar el mismo con el $ que nos ahorrariamos por cada fraude.\n",
    "\n",
    "* Como era de esperar, la performance de RandomForest es muy superior a la de la regresión logística. El primero de estos no supone una relación lineal entre variables y es capaz de encontrar relaciones mas complejas en los datos, construyendo pronteras de decisión no lineales (entre otras).\n",
    "* La optimización hiperparamétrica no altera prácticamente nada los resultados obtenidos previamente.\n",
    "* No se observa una diferencia significativa en el tipo de fraude encontrado en el dataset de test."
   ]
  },
  {
   "cell_type": "markdown",
   "id": "415d2cf2",
   "metadata": {},
   "source": [
    "<center><h1 style='font-size:35px'>Trabajo futuro</h1></center>\n",
    "\n",
    "* -"
   ]
  }
 ],
 "metadata": {
  "kernelspec": {
   "display_name": "Python 3",
   "language": "python",
   "name": "python3"
  },
  "language_info": {
   "codemirror_mode": {
    "name": "ipython",
    "version": 3
   },
   "file_extension": ".py",
   "mimetype": "text/x-python",
   "name": "python",
   "nbconvert_exporter": "python",
   "pygments_lexer": "ipython3",
   "version": "3.6.13"
  }
 },
 "nbformat": 4,
 "nbformat_minor": 5
}
