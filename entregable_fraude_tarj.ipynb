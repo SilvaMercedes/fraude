{
  "nbformat": 4,
  "nbformat_minor": 0,
  "metadata": {
    "colab": {
      "name": "entregable_fraude_tarj.ipynb",
      "provenance": [],
      "collapsed_sections": [],
      "include_colab_link": true
    },
    "kernelspec": {
      "name": "python3",
      "display_name": "Python 3"
    },
    "language_info": {
      "name": "python"
    }
  },
  "cells": [
    {
      "cell_type": "markdown",
      "metadata": {
        "id": "view-in-github",
        "colab_type": "text"
      },
      "source": [
        "<a href=\"https://colab.research.google.com/github/SilvaMercedes/fraude/blob/main/entregable_fraude_tarj.ipynb\" target=\"_parent\"><img src=\"https://colab.research.google.com/assets/colab-badge.svg\" alt=\"Open In Colab\"/></a>"
      ]
    },
    {
      "cell_type": "markdown",
      "source": [
        "Mentoria de Detección de Fraude de Tarjeta de Crédito\n",
        "Trabajo: Análisis y visualización de datos.\n",
        "En el siguiente práctico vamos a empezar a trabajar nuestro dataset haciendo uso de algunos conceptos fundamentales y otras 'herramientas' que han ido viendo a lo largo de la primer materia."
      ],
      "metadata": {
        "id": "TQOyp_l4XtOb"
      }
    },
    {
      "cell_type": "code",
      "execution_count": 1,
      "metadata": {
        "id": "NkGo-h8SSdFF"
      },
      "outputs": [],
      "source": [
        "import pandas as pd\n",
        "import matplotlib.pyplot as plt\n",
        "import numpy as np\n",
        "import seaborn as sns\n",
        "sns.set(rc={'figure.figsize':(10,6)})"
      ]
    },
    {
      "cell_type": "markdown",
      "source": [
        ""
      ],
      "metadata": {
        "id": "uM6QH10nXrvf"
      }
    },
    {
      "cell_type": "code",
      "source": [
        "url = 'https://raw.githubusercontent.com/SilvaMercedes/diplo/main/dataset/fraud_data_pt1.csv'\n",
        "df1_copy = pd.read_csv(url)\n",
        "url1 = 'https://raw.githubusercontent.com/SilvaMercedes/diplo/main/dataset/fraud_data_pt12.csv'\n",
        "df2_copy = pd.read_csv(url1)\n",
        "\n",
        "df = pd.concat([df1_copy, df2_copy], ignore_index=True)\n",
        "df"
      ],
      "metadata": {
        "colab": {
          "base_uri": "https://localhost:8080/",
          "height": 461
        },
        "id": "3GrfcuMJS4KC",
        "outputId": "d4ef98db-59e3-4c25-b422-fd5e7bf11c66"
      },
      "execution_count": 2,
      "outputs": [
        {
          "output_type": "execute_result",
          "data": {
            "text/plain": [
              "        Unnamed: 0      Time         V1         V2        V3        V4  \\\n",
              "0                0       0.0  -1.359807  -0.072781  2.536347  1.378155   \n",
              "1                1       0.0   1.191857   0.266151  0.166480  0.448154   \n",
              "2                2       1.0  -1.358354  -1.340163  1.773209  0.379780   \n",
              "3                3       1.0  -0.966272  -0.185226  1.792993 -0.863291   \n",
              "4                4       2.0  -1.158233   0.877737  1.548718  0.403034   \n",
              "...            ...       ...        ...        ...       ...       ...   \n",
              "284802      284802  172786.0 -11.881118  10.071785 -9.834783 -2.066656   \n",
              "284803      284803  172787.0  -0.732789  -0.055080  2.035030 -0.738589   \n",
              "284804      284804  172788.0   1.919565  -0.301254 -3.249640 -0.557828   \n",
              "284805      284805  172788.0  -0.240440   0.530483  0.702510  0.689799   \n",
              "284806      284806  172792.0  -0.533413  -0.189733  0.703337 -0.506271   \n",
              "\n",
              "              V5        V6        V7        V8  ...       V21       V22  \\\n",
              "0      -0.338321  0.462388  0.239599  0.098698  ... -0.018307  0.277838   \n",
              "1       0.060018 -0.082361 -0.078803  0.085102  ... -0.225775 -0.638672   \n",
              "2      -0.503198  1.800499  0.791461  0.247676  ...  0.247998  0.771679   \n",
              "3      -0.010309  1.247203  0.237609  0.377436  ... -0.108300  0.005274   \n",
              "4      -0.407193  0.095921  0.592941 -0.270533  ... -0.009431  0.798278   \n",
              "...          ...       ...       ...       ...  ...       ...       ...   \n",
              "284802 -5.364473 -2.606837 -4.918215  7.305334  ...  0.213454  0.111864   \n",
              "284803  0.868229  1.058415  0.024330  0.294869  ...  0.214205  0.924384   \n",
              "284804  2.630515  3.031260 -0.296827  0.708417  ...  0.232045  0.578229   \n",
              "284805 -0.377961  0.623708 -0.686180  0.679145  ...  0.265245  0.800049   \n",
              "284806 -0.012546 -0.649617  1.577006 -0.414650  ...  0.261057  0.643078   \n",
              "\n",
              "             V23       V24       V25       V26       V27       V28  Amount  \\\n",
              "0      -0.110474  0.066928  0.128539 -0.189115  0.133558 -0.021053  149.62   \n",
              "1       0.101288 -0.339846  0.167170  0.125895 -0.008983  0.014724    2.69   \n",
              "2       0.909412 -0.689281 -0.327642 -0.139097 -0.055353 -0.059752  378.66   \n",
              "3      -0.190321 -1.175575  0.647376 -0.221929  0.062723  0.061458  123.50   \n",
              "4      -0.137458  0.141267 -0.206010  0.502292  0.219422  0.215153   69.99   \n",
              "...          ...       ...       ...       ...       ...       ...     ...   \n",
              "284802  1.014480 -0.509348  1.436807  0.250034  0.943651  0.823731    0.77   \n",
              "284803  0.012463 -1.016226 -0.606624 -0.395255  0.068472 -0.053527   24.79   \n",
              "284804 -0.037501  0.640134  0.265745 -0.087371  0.004455 -0.026561   67.88   \n",
              "284805 -0.163298  0.123205 -0.569159  0.546668  0.108821  0.104533   10.00   \n",
              "284806  0.376777  0.008797 -0.473649 -0.818267 -0.002415  0.013649  217.00   \n",
              "\n",
              "        Class  \n",
              "0           0  \n",
              "1           0  \n",
              "2           0  \n",
              "3           0  \n",
              "4           0  \n",
              "...       ...  \n",
              "284802      0  \n",
              "284803      0  \n",
              "284804      0  \n",
              "284805      0  \n",
              "284806      0  \n",
              "\n",
              "[284807 rows x 32 columns]"
            ],
            "text/html": [
              "<div>\n",
              "<style scoped>\n",
              "    .dataframe tbody tr th:only-of-type {\n",
              "        vertical-align: middle;\n",
              "    }\n",
              "\n",
              "    .dataframe tbody tr th {\n",
              "        vertical-align: top;\n",
              "    }\n",
              "\n",
              "    .dataframe thead th {\n",
              "        text-align: right;\n",
              "    }\n",
              "</style>\n",
              "<table border=\"1\" class=\"dataframe\">\n",
              "  <thead>\n",
              "    <tr style=\"text-align: right;\">\n",
              "      <th></th>\n",
              "      <th>Unnamed: 0</th>\n",
              "      <th>Time</th>\n",
              "      <th>V1</th>\n",
              "      <th>V2</th>\n",
              "      <th>V3</th>\n",
              "      <th>V4</th>\n",
              "      <th>V5</th>\n",
              "      <th>V6</th>\n",
              "      <th>V7</th>\n",
              "      <th>V8</th>\n",
              "      <th>...</th>\n",
              "      <th>V21</th>\n",
              "      <th>V22</th>\n",
              "      <th>V23</th>\n",
              "      <th>V24</th>\n",
              "      <th>V25</th>\n",
              "      <th>V26</th>\n",
              "      <th>V27</th>\n",
              "      <th>V28</th>\n",
              "      <th>Amount</th>\n",
              "      <th>Class</th>\n",
              "    </tr>\n",
              "  </thead>\n",
              "  <tbody>\n",
              "    <tr>\n",
              "      <th>0</th>\n",
              "      <td>0</td>\n",
              "      <td>0.0</td>\n",
              "      <td>-1.359807</td>\n",
              "      <td>-0.072781</td>\n",
              "      <td>2.536347</td>\n",
              "      <td>1.378155</td>\n",
              "      <td>-0.338321</td>\n",
              "      <td>0.462388</td>\n",
              "      <td>0.239599</td>\n",
              "      <td>0.098698</td>\n",
              "      <td>...</td>\n",
              "      <td>-0.018307</td>\n",
              "      <td>0.277838</td>\n",
              "      <td>-0.110474</td>\n",
              "      <td>0.066928</td>\n",
              "      <td>0.128539</td>\n",
              "      <td>-0.189115</td>\n",
              "      <td>0.133558</td>\n",
              "      <td>-0.021053</td>\n",
              "      <td>149.62</td>\n",
              "      <td>0</td>\n",
              "    </tr>\n",
              "    <tr>\n",
              "      <th>1</th>\n",
              "      <td>1</td>\n",
              "      <td>0.0</td>\n",
              "      <td>1.191857</td>\n",
              "      <td>0.266151</td>\n",
              "      <td>0.166480</td>\n",
              "      <td>0.448154</td>\n",
              "      <td>0.060018</td>\n",
              "      <td>-0.082361</td>\n",
              "      <td>-0.078803</td>\n",
              "      <td>0.085102</td>\n",
              "      <td>...</td>\n",
              "      <td>-0.225775</td>\n",
              "      <td>-0.638672</td>\n",
              "      <td>0.101288</td>\n",
              "      <td>-0.339846</td>\n",
              "      <td>0.167170</td>\n",
              "      <td>0.125895</td>\n",
              "      <td>-0.008983</td>\n",
              "      <td>0.014724</td>\n",
              "      <td>2.69</td>\n",
              "      <td>0</td>\n",
              "    </tr>\n",
              "    <tr>\n",
              "      <th>2</th>\n",
              "      <td>2</td>\n",
              "      <td>1.0</td>\n",
              "      <td>-1.358354</td>\n",
              "      <td>-1.340163</td>\n",
              "      <td>1.773209</td>\n",
              "      <td>0.379780</td>\n",
              "      <td>-0.503198</td>\n",
              "      <td>1.800499</td>\n",
              "      <td>0.791461</td>\n",
              "      <td>0.247676</td>\n",
              "      <td>...</td>\n",
              "      <td>0.247998</td>\n",
              "      <td>0.771679</td>\n",
              "      <td>0.909412</td>\n",
              "      <td>-0.689281</td>\n",
              "      <td>-0.327642</td>\n",
              "      <td>-0.139097</td>\n",
              "      <td>-0.055353</td>\n",
              "      <td>-0.059752</td>\n",
              "      <td>378.66</td>\n",
              "      <td>0</td>\n",
              "    </tr>\n",
              "    <tr>\n",
              "      <th>3</th>\n",
              "      <td>3</td>\n",
              "      <td>1.0</td>\n",
              "      <td>-0.966272</td>\n",
              "      <td>-0.185226</td>\n",
              "      <td>1.792993</td>\n",
              "      <td>-0.863291</td>\n",
              "      <td>-0.010309</td>\n",
              "      <td>1.247203</td>\n",
              "      <td>0.237609</td>\n",
              "      <td>0.377436</td>\n",
              "      <td>...</td>\n",
              "      <td>-0.108300</td>\n",
              "      <td>0.005274</td>\n",
              "      <td>-0.190321</td>\n",
              "      <td>-1.175575</td>\n",
              "      <td>0.647376</td>\n",
              "      <td>-0.221929</td>\n",
              "      <td>0.062723</td>\n",
              "      <td>0.061458</td>\n",
              "      <td>123.50</td>\n",
              "      <td>0</td>\n",
              "    </tr>\n",
              "    <tr>\n",
              "      <th>4</th>\n",
              "      <td>4</td>\n",
              "      <td>2.0</td>\n",
              "      <td>-1.158233</td>\n",
              "      <td>0.877737</td>\n",
              "      <td>1.548718</td>\n",
              "      <td>0.403034</td>\n",
              "      <td>-0.407193</td>\n",
              "      <td>0.095921</td>\n",
              "      <td>0.592941</td>\n",
              "      <td>-0.270533</td>\n",
              "      <td>...</td>\n",
              "      <td>-0.009431</td>\n",
              "      <td>0.798278</td>\n",
              "      <td>-0.137458</td>\n",
              "      <td>0.141267</td>\n",
              "      <td>-0.206010</td>\n",
              "      <td>0.502292</td>\n",
              "      <td>0.219422</td>\n",
              "      <td>0.215153</td>\n",
              "      <td>69.99</td>\n",
              "      <td>0</td>\n",
              "    </tr>\n",
              "    <tr>\n",
              "      <th>...</th>\n",
              "      <td>...</td>\n",
              "      <td>...</td>\n",
              "      <td>...</td>\n",
              "      <td>...</td>\n",
              "      <td>...</td>\n",
              "      <td>...</td>\n",
              "      <td>...</td>\n",
              "      <td>...</td>\n",
              "      <td>...</td>\n",
              "      <td>...</td>\n",
              "      <td>...</td>\n",
              "      <td>...</td>\n",
              "      <td>...</td>\n",
              "      <td>...</td>\n",
              "      <td>...</td>\n",
              "      <td>...</td>\n",
              "      <td>...</td>\n",
              "      <td>...</td>\n",
              "      <td>...</td>\n",
              "      <td>...</td>\n",
              "      <td>...</td>\n",
              "    </tr>\n",
              "    <tr>\n",
              "      <th>284802</th>\n",
              "      <td>284802</td>\n",
              "      <td>172786.0</td>\n",
              "      <td>-11.881118</td>\n",
              "      <td>10.071785</td>\n",
              "      <td>-9.834783</td>\n",
              "      <td>-2.066656</td>\n",
              "      <td>-5.364473</td>\n",
              "      <td>-2.606837</td>\n",
              "      <td>-4.918215</td>\n",
              "      <td>7.305334</td>\n",
              "      <td>...</td>\n",
              "      <td>0.213454</td>\n",
              "      <td>0.111864</td>\n",
              "      <td>1.014480</td>\n",
              "      <td>-0.509348</td>\n",
              "      <td>1.436807</td>\n",
              "      <td>0.250034</td>\n",
              "      <td>0.943651</td>\n",
              "      <td>0.823731</td>\n",
              "      <td>0.77</td>\n",
              "      <td>0</td>\n",
              "    </tr>\n",
              "    <tr>\n",
              "      <th>284803</th>\n",
              "      <td>284803</td>\n",
              "      <td>172787.0</td>\n",
              "      <td>-0.732789</td>\n",
              "      <td>-0.055080</td>\n",
              "      <td>2.035030</td>\n",
              "      <td>-0.738589</td>\n",
              "      <td>0.868229</td>\n",
              "      <td>1.058415</td>\n",
              "      <td>0.024330</td>\n",
              "      <td>0.294869</td>\n",
              "      <td>...</td>\n",
              "      <td>0.214205</td>\n",
              "      <td>0.924384</td>\n",
              "      <td>0.012463</td>\n",
              "      <td>-1.016226</td>\n",
              "      <td>-0.606624</td>\n",
              "      <td>-0.395255</td>\n",
              "      <td>0.068472</td>\n",
              "      <td>-0.053527</td>\n",
              "      <td>24.79</td>\n",
              "      <td>0</td>\n",
              "    </tr>\n",
              "    <tr>\n",
              "      <th>284804</th>\n",
              "      <td>284804</td>\n",
              "      <td>172788.0</td>\n",
              "      <td>1.919565</td>\n",
              "      <td>-0.301254</td>\n",
              "      <td>-3.249640</td>\n",
              "      <td>-0.557828</td>\n",
              "      <td>2.630515</td>\n",
              "      <td>3.031260</td>\n",
              "      <td>-0.296827</td>\n",
              "      <td>0.708417</td>\n",
              "      <td>...</td>\n",
              "      <td>0.232045</td>\n",
              "      <td>0.578229</td>\n",
              "      <td>-0.037501</td>\n",
              "      <td>0.640134</td>\n",
              "      <td>0.265745</td>\n",
              "      <td>-0.087371</td>\n",
              "      <td>0.004455</td>\n",
              "      <td>-0.026561</td>\n",
              "      <td>67.88</td>\n",
              "      <td>0</td>\n",
              "    </tr>\n",
              "    <tr>\n",
              "      <th>284805</th>\n",
              "      <td>284805</td>\n",
              "      <td>172788.0</td>\n",
              "      <td>-0.240440</td>\n",
              "      <td>0.530483</td>\n",
              "      <td>0.702510</td>\n",
              "      <td>0.689799</td>\n",
              "      <td>-0.377961</td>\n",
              "      <td>0.623708</td>\n",
              "      <td>-0.686180</td>\n",
              "      <td>0.679145</td>\n",
              "      <td>...</td>\n",
              "      <td>0.265245</td>\n",
              "      <td>0.800049</td>\n",
              "      <td>-0.163298</td>\n",
              "      <td>0.123205</td>\n",
              "      <td>-0.569159</td>\n",
              "      <td>0.546668</td>\n",
              "      <td>0.108821</td>\n",
              "      <td>0.104533</td>\n",
              "      <td>10.00</td>\n",
              "      <td>0</td>\n",
              "    </tr>\n",
              "    <tr>\n",
              "      <th>284806</th>\n",
              "      <td>284806</td>\n",
              "      <td>172792.0</td>\n",
              "      <td>-0.533413</td>\n",
              "      <td>-0.189733</td>\n",
              "      <td>0.703337</td>\n",
              "      <td>-0.506271</td>\n",
              "      <td>-0.012546</td>\n",
              "      <td>-0.649617</td>\n",
              "      <td>1.577006</td>\n",
              "      <td>-0.414650</td>\n",
              "      <td>...</td>\n",
              "      <td>0.261057</td>\n",
              "      <td>0.643078</td>\n",
              "      <td>0.376777</td>\n",
              "      <td>0.008797</td>\n",
              "      <td>-0.473649</td>\n",
              "      <td>-0.818267</td>\n",
              "      <td>-0.002415</td>\n",
              "      <td>0.013649</td>\n",
              "      <td>217.00</td>\n",
              "      <td>0</td>\n",
              "    </tr>\n",
              "  </tbody>\n",
              "</table>\n",
              "<p>284807 rows × 32 columns</p>\n",
              "</div>"
            ]
          },
          "metadata": {},
          "execution_count": 2
        }
      ]
    },
    {
      "cell_type": "code",
      "source": [
        "#imprimo todas las columnas del DF para decidir cuales selecciono en posterior analisis\n",
        "df.columns"
      ],
      "metadata": {
        "colab": {
          "base_uri": "https://localhost:8080/"
        },
        "id": "D6LZJCUHddmJ",
        "outputId": "87e38827-b424-4f13-a50e-ad33ebb45564"
      },
      "execution_count": 3,
      "outputs": [
        {
          "output_type": "execute_result",
          "data": {
            "text/plain": [
              "Index(['Unnamed: 0', 'Time', 'V1', 'V2', 'V3', 'V4', 'V5', 'V6', 'V7', 'V8',\n",
              "       'V9', 'V10', 'V11', 'V12', 'V13', 'V14', 'V15', 'V16', 'V17', 'V18',\n",
              "       'V19', 'V20', 'V21', 'V22', 'V23', 'V24', 'V25', 'V26', 'V27', 'V28',\n",
              "       'Amount', 'Class'],\n",
              "      dtype='object')"
            ]
          },
          "metadata": {},
          "execution_count": 3
        }
      ]
    },
    {
      "cell_type": "code",
      "source": [
        "df.describe()"
      ],
      "metadata": {
        "colab": {
          "base_uri": "https://localhost:8080/",
          "height": 350
        },
        "id": "moOR34DjUd_H",
        "outputId": "e6e33b80-d380-4e14-ebf2-fc7831685608"
      },
      "execution_count": 4,
      "outputs": [
        {
          "output_type": "execute_result",
          "data": {
            "text/plain": [
              "          Unnamed: 0           Time            V1            V2            V3  \\\n",
              "count  284807.000000  284807.000000  2.848070e+05  2.848070e+05  2.848070e+05   \n",
              "mean   142403.000000   94813.859575  3.922261e-15  5.619317e-16 -8.769470e-15   \n",
              "std     82216.843396   47488.145955  1.958696e+00  1.651309e+00  1.516255e+00   \n",
              "min         0.000000       0.000000 -5.640751e+01 -7.271573e+01 -4.832559e+01   \n",
              "25%     71201.500000   54201.500000 -9.203734e-01 -5.985499e-01 -8.903648e-01   \n",
              "50%    142403.000000   84692.000000  1.810880e-02  6.548556e-02  1.798463e-01   \n",
              "75%    213604.500000  139320.500000  1.315642e+00  8.037239e-01  1.027196e+00   \n",
              "max    284806.000000  172792.000000  2.454930e+00  2.205773e+01  9.382558e+00   \n",
              "\n",
              "                 V4            V5            V6            V7            V8  \\\n",
              "count  2.848070e+05  2.848070e+05  2.848070e+05  2.848070e+05  2.848070e+05   \n",
              "mean   2.772356e-15 -1.549320e-15  2.019445e-15 -1.693800e-15 -1.988650e-16   \n",
              "std    1.415869e+00  1.380247e+00  1.332271e+00  1.237094e+00  1.194353e+00   \n",
              "min   -5.683171e+00 -1.137433e+02 -2.616051e+01 -4.355724e+01 -7.321672e+01   \n",
              "25%   -8.486401e-01 -6.915971e-01 -7.682956e-01 -5.540759e-01 -2.086297e-01   \n",
              "50%   -1.984653e-02 -5.433583e-02 -2.741871e-01  4.010308e-02  2.235804e-02   \n",
              "75%    7.433413e-01  6.119264e-01  3.985649e-01  5.704361e-01  3.273459e-01   \n",
              "max    1.687534e+01  3.480167e+01  7.330163e+01  1.205895e+02  2.000721e+01   \n",
              "\n",
              "       ...           V21           V22           V23           V24  \\\n",
              "count  ...  2.848070e+05  2.848070e+05  2.848070e+05  2.848070e+05   \n",
              "mean   ...  1.460592e-16  7.960906e-16  5.242038e-16  4.461367e-15   \n",
              "std    ...  7.345240e-01  7.257016e-01  6.244603e-01  6.056471e-01   \n",
              "min    ... -3.483038e+01 -1.093314e+01 -4.480774e+01 -2.836627e+00   \n",
              "25%    ... -2.283949e-01 -5.423504e-01 -1.618463e-01 -3.545861e-01   \n",
              "50%    ... -2.945017e-02  6.781943e-03 -1.119293e-02  4.097606e-02   \n",
              "75%    ...  1.863772e-01  5.285536e-01  1.476421e-01  4.395266e-01   \n",
              "max    ...  2.720284e+01  1.050309e+01  2.252841e+01  4.584549e+00   \n",
              "\n",
              "                V25           V26           V27           V28         Amount  \\\n",
              "count  2.848070e+05  2.848070e+05  2.848070e+05  2.848070e+05  284807.000000   \n",
              "mean   1.438866e-15  1.704215e-15 -3.672395e-16 -1.228006e-16      88.349619   \n",
              "std    5.212781e-01  4.822270e-01  4.036325e-01  3.300833e-01     250.120109   \n",
              "min   -1.029540e+01 -2.604551e+00 -2.256568e+01 -1.543008e+01       0.000000   \n",
              "25%   -3.171451e-01 -3.269839e-01 -7.083953e-02 -5.295979e-02       5.600000   \n",
              "50%    1.659350e-02 -5.213911e-02  1.342146e-03  1.124383e-02      22.000000   \n",
              "75%    3.507156e-01  2.409522e-01  9.104512e-02  7.827995e-02      77.165000   \n",
              "max    7.519589e+00  3.517346e+00  3.161220e+01  3.384781e+01   25691.160000   \n",
              "\n",
              "               Class  \n",
              "count  284807.000000  \n",
              "mean        0.001727  \n",
              "std         0.041527  \n",
              "min         0.000000  \n",
              "25%         0.000000  \n",
              "50%         0.000000  \n",
              "75%         0.000000  \n",
              "max         1.000000  \n",
              "\n",
              "[8 rows x 32 columns]"
            ],
            "text/html": [
              "<div>\n",
              "<style scoped>\n",
              "    .dataframe tbody tr th:only-of-type {\n",
              "        vertical-align: middle;\n",
              "    }\n",
              "\n",
              "    .dataframe tbody tr th {\n",
              "        vertical-align: top;\n",
              "    }\n",
              "\n",
              "    .dataframe thead th {\n",
              "        text-align: right;\n",
              "    }\n",
              "</style>\n",
              "<table border=\"1\" class=\"dataframe\">\n",
              "  <thead>\n",
              "    <tr style=\"text-align: right;\">\n",
              "      <th></th>\n",
              "      <th>Unnamed: 0</th>\n",
              "      <th>Time</th>\n",
              "      <th>V1</th>\n",
              "      <th>V2</th>\n",
              "      <th>V3</th>\n",
              "      <th>V4</th>\n",
              "      <th>V5</th>\n",
              "      <th>V6</th>\n",
              "      <th>V7</th>\n",
              "      <th>V8</th>\n",
              "      <th>...</th>\n",
              "      <th>V21</th>\n",
              "      <th>V22</th>\n",
              "      <th>V23</th>\n",
              "      <th>V24</th>\n",
              "      <th>V25</th>\n",
              "      <th>V26</th>\n",
              "      <th>V27</th>\n",
              "      <th>V28</th>\n",
              "      <th>Amount</th>\n",
              "      <th>Class</th>\n",
              "    </tr>\n",
              "  </thead>\n",
              "  <tbody>\n",
              "    <tr>\n",
              "      <th>count</th>\n",
              "      <td>284807.000000</td>\n",
              "      <td>284807.000000</td>\n",
              "      <td>2.848070e+05</td>\n",
              "      <td>2.848070e+05</td>\n",
              "      <td>2.848070e+05</td>\n",
              "      <td>2.848070e+05</td>\n",
              "      <td>2.848070e+05</td>\n",
              "      <td>2.848070e+05</td>\n",
              "      <td>2.848070e+05</td>\n",
              "      <td>2.848070e+05</td>\n",
              "      <td>...</td>\n",
              "      <td>2.848070e+05</td>\n",
              "      <td>2.848070e+05</td>\n",
              "      <td>2.848070e+05</td>\n",
              "      <td>2.848070e+05</td>\n",
              "      <td>2.848070e+05</td>\n",
              "      <td>2.848070e+05</td>\n",
              "      <td>2.848070e+05</td>\n",
              "      <td>2.848070e+05</td>\n",
              "      <td>284807.000000</td>\n",
              "      <td>284807.000000</td>\n",
              "    </tr>\n",
              "    <tr>\n",
              "      <th>mean</th>\n",
              "      <td>142403.000000</td>\n",
              "      <td>94813.859575</td>\n",
              "      <td>3.922261e-15</td>\n",
              "      <td>5.619317e-16</td>\n",
              "      <td>-8.769470e-15</td>\n",
              "      <td>2.772356e-15</td>\n",
              "      <td>-1.549320e-15</td>\n",
              "      <td>2.019445e-15</td>\n",
              "      <td>-1.693800e-15</td>\n",
              "      <td>-1.988650e-16</td>\n",
              "      <td>...</td>\n",
              "      <td>1.460592e-16</td>\n",
              "      <td>7.960906e-16</td>\n",
              "      <td>5.242038e-16</td>\n",
              "      <td>4.461367e-15</td>\n",
              "      <td>1.438866e-15</td>\n",
              "      <td>1.704215e-15</td>\n",
              "      <td>-3.672395e-16</td>\n",
              "      <td>-1.228006e-16</td>\n",
              "      <td>88.349619</td>\n",
              "      <td>0.001727</td>\n",
              "    </tr>\n",
              "    <tr>\n",
              "      <th>std</th>\n",
              "      <td>82216.843396</td>\n",
              "      <td>47488.145955</td>\n",
              "      <td>1.958696e+00</td>\n",
              "      <td>1.651309e+00</td>\n",
              "      <td>1.516255e+00</td>\n",
              "      <td>1.415869e+00</td>\n",
              "      <td>1.380247e+00</td>\n",
              "      <td>1.332271e+00</td>\n",
              "      <td>1.237094e+00</td>\n",
              "      <td>1.194353e+00</td>\n",
              "      <td>...</td>\n",
              "      <td>7.345240e-01</td>\n",
              "      <td>7.257016e-01</td>\n",
              "      <td>6.244603e-01</td>\n",
              "      <td>6.056471e-01</td>\n",
              "      <td>5.212781e-01</td>\n",
              "      <td>4.822270e-01</td>\n",
              "      <td>4.036325e-01</td>\n",
              "      <td>3.300833e-01</td>\n",
              "      <td>250.120109</td>\n",
              "      <td>0.041527</td>\n",
              "    </tr>\n",
              "    <tr>\n",
              "      <th>min</th>\n",
              "      <td>0.000000</td>\n",
              "      <td>0.000000</td>\n",
              "      <td>-5.640751e+01</td>\n",
              "      <td>-7.271573e+01</td>\n",
              "      <td>-4.832559e+01</td>\n",
              "      <td>-5.683171e+00</td>\n",
              "      <td>-1.137433e+02</td>\n",
              "      <td>-2.616051e+01</td>\n",
              "      <td>-4.355724e+01</td>\n",
              "      <td>-7.321672e+01</td>\n",
              "      <td>...</td>\n",
              "      <td>-3.483038e+01</td>\n",
              "      <td>-1.093314e+01</td>\n",
              "      <td>-4.480774e+01</td>\n",
              "      <td>-2.836627e+00</td>\n",
              "      <td>-1.029540e+01</td>\n",
              "      <td>-2.604551e+00</td>\n",
              "      <td>-2.256568e+01</td>\n",
              "      <td>-1.543008e+01</td>\n",
              "      <td>0.000000</td>\n",
              "      <td>0.000000</td>\n",
              "    </tr>\n",
              "    <tr>\n",
              "      <th>25%</th>\n",
              "      <td>71201.500000</td>\n",
              "      <td>54201.500000</td>\n",
              "      <td>-9.203734e-01</td>\n",
              "      <td>-5.985499e-01</td>\n",
              "      <td>-8.903648e-01</td>\n",
              "      <td>-8.486401e-01</td>\n",
              "      <td>-6.915971e-01</td>\n",
              "      <td>-7.682956e-01</td>\n",
              "      <td>-5.540759e-01</td>\n",
              "      <td>-2.086297e-01</td>\n",
              "      <td>...</td>\n",
              "      <td>-2.283949e-01</td>\n",
              "      <td>-5.423504e-01</td>\n",
              "      <td>-1.618463e-01</td>\n",
              "      <td>-3.545861e-01</td>\n",
              "      <td>-3.171451e-01</td>\n",
              "      <td>-3.269839e-01</td>\n",
              "      <td>-7.083953e-02</td>\n",
              "      <td>-5.295979e-02</td>\n",
              "      <td>5.600000</td>\n",
              "      <td>0.000000</td>\n",
              "    </tr>\n",
              "    <tr>\n",
              "      <th>50%</th>\n",
              "      <td>142403.000000</td>\n",
              "      <td>84692.000000</td>\n",
              "      <td>1.810880e-02</td>\n",
              "      <td>6.548556e-02</td>\n",
              "      <td>1.798463e-01</td>\n",
              "      <td>-1.984653e-02</td>\n",
              "      <td>-5.433583e-02</td>\n",
              "      <td>-2.741871e-01</td>\n",
              "      <td>4.010308e-02</td>\n",
              "      <td>2.235804e-02</td>\n",
              "      <td>...</td>\n",
              "      <td>-2.945017e-02</td>\n",
              "      <td>6.781943e-03</td>\n",
              "      <td>-1.119293e-02</td>\n",
              "      <td>4.097606e-02</td>\n",
              "      <td>1.659350e-02</td>\n",
              "      <td>-5.213911e-02</td>\n",
              "      <td>1.342146e-03</td>\n",
              "      <td>1.124383e-02</td>\n",
              "      <td>22.000000</td>\n",
              "      <td>0.000000</td>\n",
              "    </tr>\n",
              "    <tr>\n",
              "      <th>75%</th>\n",
              "      <td>213604.500000</td>\n",
              "      <td>139320.500000</td>\n",
              "      <td>1.315642e+00</td>\n",
              "      <td>8.037239e-01</td>\n",
              "      <td>1.027196e+00</td>\n",
              "      <td>7.433413e-01</td>\n",
              "      <td>6.119264e-01</td>\n",
              "      <td>3.985649e-01</td>\n",
              "      <td>5.704361e-01</td>\n",
              "      <td>3.273459e-01</td>\n",
              "      <td>...</td>\n",
              "      <td>1.863772e-01</td>\n",
              "      <td>5.285536e-01</td>\n",
              "      <td>1.476421e-01</td>\n",
              "      <td>4.395266e-01</td>\n",
              "      <td>3.507156e-01</td>\n",
              "      <td>2.409522e-01</td>\n",
              "      <td>9.104512e-02</td>\n",
              "      <td>7.827995e-02</td>\n",
              "      <td>77.165000</td>\n",
              "      <td>0.000000</td>\n",
              "    </tr>\n",
              "    <tr>\n",
              "      <th>max</th>\n",
              "      <td>284806.000000</td>\n",
              "      <td>172792.000000</td>\n",
              "      <td>2.454930e+00</td>\n",
              "      <td>2.205773e+01</td>\n",
              "      <td>9.382558e+00</td>\n",
              "      <td>1.687534e+01</td>\n",
              "      <td>3.480167e+01</td>\n",
              "      <td>7.330163e+01</td>\n",
              "      <td>1.205895e+02</td>\n",
              "      <td>2.000721e+01</td>\n",
              "      <td>...</td>\n",
              "      <td>2.720284e+01</td>\n",
              "      <td>1.050309e+01</td>\n",
              "      <td>2.252841e+01</td>\n",
              "      <td>4.584549e+00</td>\n",
              "      <td>7.519589e+00</td>\n",
              "      <td>3.517346e+00</td>\n",
              "      <td>3.161220e+01</td>\n",
              "      <td>3.384781e+01</td>\n",
              "      <td>25691.160000</td>\n",
              "      <td>1.000000</td>\n",
              "    </tr>\n",
              "  </tbody>\n",
              "</table>\n",
              "<p>8 rows × 32 columns</p>\n",
              "</div>"
            ]
          },
          "metadata": {},
          "execution_count": 4
        }
      ]
    },
    {
      "cell_type": "code",
      "source": [
        "# encontrar asimetria de datos\n",
        "df.skew()"
      ],
      "metadata": {
        "colab": {
          "base_uri": "https://localhost:8080/"
        },
        "id": "sJBjJIGwXxgx",
        "outputId": "0f2f3e79-3921-43d1-c648-7cbdd13da7d8"
      },
      "execution_count": 5,
      "outputs": [
        {
          "output_type": "execute_result",
          "data": {
            "text/plain": [
              "Unnamed: 0     0.000000\n",
              "Time          -0.035568\n",
              "V1            -3.280667\n",
              "V2            -4.624866\n",
              "V3            -2.240155\n",
              "V4             0.676292\n",
              "V5            -2.425901\n",
              "V6             1.826581\n",
              "V7             2.553907\n",
              "V8            -8.521944\n",
              "V9             0.554680\n",
              "V10            1.187141\n",
              "V11            0.356506\n",
              "V12           -2.278401\n",
              "V13            0.065233\n",
              "V14           -1.995176\n",
              "V15           -0.308423\n",
              "V16           -1.100966\n",
              "V17           -3.844914\n",
              "V18           -0.259880\n",
              "V19            0.109192\n",
              "V20           -2.037155\n",
              "V21            3.592991\n",
              "V22           -0.213258\n",
              "V23           -5.875140\n",
              "V24           -0.552499\n",
              "V25           -0.415793\n",
              "V26            0.576693\n",
              "V27           -1.170209\n",
              "V28           11.192091\n",
              "Amount        16.977724\n",
              "Class         23.997579\n",
              "dtype: float64"
            ]
          },
          "metadata": {},
          "execution_count": 5
        }
      ]
    },
    {
      "cell_type": "code",
      "source": [
        "df['Time']"
      ],
      "metadata": {
        "colab": {
          "base_uri": "https://localhost:8080/"
        },
        "id": "_gj-Mc_ctrrB",
        "outputId": "4a3f9646-f78e-4cf1-d395-50302602f157"
      },
      "execution_count": 6,
      "outputs": [
        {
          "output_type": "execute_result",
          "data": {
            "text/plain": [
              "0              0.0\n",
              "1              0.0\n",
              "2              1.0\n",
              "3              1.0\n",
              "4              2.0\n",
              "            ...   \n",
              "284802    172786.0\n",
              "284803    172787.0\n",
              "284804    172788.0\n",
              "284805    172788.0\n",
              "284806    172792.0\n",
              "Name: Time, Length: 284807, dtype: float64"
            ]
          },
          "metadata": {},
          "execution_count": 6
        }
      ]
    },
    {
      "cell_type": "code",
      "source": [
        "Time = 'Time'\n",
        "df[Time].describe().apply(lambda s: '{0:.2f}'.format(s))"
      ],
      "metadata": {
        "colab": {
          "base_uri": "https://localhost:8080/"
        },
        "id": "vGaKFmA2djU_",
        "outputId": "c1631ae0-dd3c-4285-8307-29d5dce1864c"
      },
      "execution_count": 7,
      "outputs": [
        {
          "output_type": "execute_result",
          "data": {
            "text/plain": [
              "count    284807.00\n",
              "mean      94813.86\n",
              "std       47488.15\n",
              "min           0.00\n",
              "25%       54201.50\n",
              "50%       84692.00\n",
              "75%      139320.50\n",
              "max      172792.00\n",
              "Name: Time, dtype: object"
            ]
          },
          "metadata": {},
          "execution_count": 7
        }
      ]
    },
    {
      "cell_type": "code",
      "source": [
        "df[Time].mean(), df[Time].median()"
      ],
      "metadata": {
        "colab": {
          "base_uri": "https://localhost:8080/"
        },
        "id": "bdN3g45Qn8-S",
        "outputId": "2d1b3798-b103-469c-ecf9-4d3303d1f499"
      },
      "execution_count": 8,
      "outputs": [
        {
          "output_type": "execute_result",
          "data": {
            "text/plain": [
              "(94813.85957508067, 84692.0)"
            ]
          },
          "metadata": {},
          "execution_count": 8
        }
      ]
    },
    {
      "cell_type": "code",
      "source": [
        "Amount = 'Amount'\n",
        "df[Amount].describe().apply(lambda s: '{0:.2f}'.format(s))"
      ],
      "metadata": {
        "colab": {
          "base_uri": "https://localhost:8080/"
        },
        "id": "-hTiqshPeOeg",
        "outputId": "632458a0-f4a8-401f-d441-717623257936"
      },
      "execution_count": 9,
      "outputs": [
        {
          "output_type": "execute_result",
          "data": {
            "text/plain": [
              "count    284807.00\n",
              "mean         88.35\n",
              "std         250.12\n",
              "min           0.00\n",
              "25%           5.60\n",
              "50%          22.00\n",
              "75%          77.16\n",
              "max       25691.16\n",
              "Name: Amount, dtype: object"
            ]
          },
          "metadata": {},
          "execution_count": 9
        }
      ]
    },
    {
      "cell_type": "code",
      "source": [
        "df[Amount].mean(), df[Amount].median()"
      ],
      "metadata": {
        "colab": {
          "base_uri": "https://localhost:8080/"
        },
        "id": "7e6DX9TMoCjL",
        "outputId": "3662af69-93ed-4dc2-a783-a1ef3a9ae857"
      },
      "execution_count": 10,
      "outputs": [
        {
          "output_type": "execute_result",
          "data": {
            "text/plain": [
              "(88.34961925087359, 22.0)"
            ]
          },
          "metadata": {},
          "execution_count": 10
        }
      ]
    },
    {
      "cell_type": "code",
      "source": [
        "df[Amount]"
      ],
      "metadata": {
        "colab": {
          "base_uri": "https://localhost:8080/"
        },
        "id": "5fOEQQQwt2u3",
        "outputId": "532fe27d-0edb-47fd-9776-1299b70268c8"
      },
      "execution_count": 11,
      "outputs": [
        {
          "output_type": "execute_result",
          "data": {
            "text/plain": [
              "0         149.62\n",
              "1           2.69\n",
              "2         378.66\n",
              "3         123.50\n",
              "4          69.99\n",
              "           ...  \n",
              "284802      0.77\n",
              "284803     24.79\n",
              "284804     67.88\n",
              "284805     10.00\n",
              "284806    217.00\n",
              "Name: Amount, Length: 284807, dtype: float64"
            ]
          },
          "metadata": {},
          "execution_count": 11
        }
      ]
    },
    {
      "cell_type": "code",
      "source": [
        "df.mean(axis= 0)"
      ],
      "metadata": {
        "colab": {
          "base_uri": "https://localhost:8080/"
        },
        "id": "IKFdJs8-qCH1",
        "outputId": "a37d083a-bb98-46dc-9766-0df22e34d20f"
      },
      "execution_count": 12,
      "outputs": [
        {
          "output_type": "execute_result",
          "data": {
            "text/plain": [
              "Unnamed: 0    1.424030e+05\n",
              "Time          9.481386e+04\n",
              "V1            3.922261e-15\n",
              "V2            5.619317e-16\n",
              "V3           -8.769470e-15\n",
              "V4            2.772356e-15\n",
              "V5           -1.549320e-15\n",
              "V6            2.019445e-15\n",
              "V7           -1.693800e-15\n",
              "V8           -1.988650e-16\n",
              "V9           -3.135278e-15\n",
              "V10           1.775882e-15\n",
              "V11           9.389862e-16\n",
              "V12          -1.823531e-15\n",
              "V13           1.687220e-15\n",
              "V14           1.478796e-15\n",
              "V15           3.491931e-15\n",
              "V16           1.390192e-15\n",
              "V17          -7.352357e-16\n",
              "V18           4.312891e-16\n",
              "V19           9.132342e-16\n",
              "V20           5.114558e-16\n",
              "V21           1.460592e-16\n",
              "V22           7.960906e-16\n",
              "V23           5.242038e-16\n",
              "V24           4.461367e-15\n",
              "V25           1.438866e-15\n",
              "V26           1.704215e-15\n",
              "V27          -3.672395e-16\n",
              "V28          -1.228006e-16\n",
              "Amount        8.834962e+01\n",
              "Class         1.727486e-03\n",
              "dtype: float64"
            ]
          },
          "metadata": {},
          "execution_count": 12
        }
      ]
    },
    {
      "cell_type": "code",
      "source": [
        "df.median(axis=0)"
      ],
      "metadata": {
        "colab": {
          "base_uri": "https://localhost:8080/"
        },
        "id": "3lNDDMBqrOGT",
        "outputId": "174674dc-4246-4180-c6eb-ee6284862fac"
      },
      "execution_count": 13,
      "outputs": [
        {
          "output_type": "execute_result",
          "data": {
            "text/plain": [
              "Unnamed: 0    142403.000000\n",
              "Time           84692.000000\n",
              "V1                 0.018109\n",
              "V2                 0.065486\n",
              "V3                 0.179846\n",
              "V4                -0.019847\n",
              "V5                -0.054336\n",
              "V6                -0.274187\n",
              "V7                 0.040103\n",
              "V8                 0.022358\n",
              "V9                -0.051429\n",
              "V10               -0.092917\n",
              "V11               -0.032757\n",
              "V12                0.140033\n",
              "V13               -0.013568\n",
              "V14                0.050601\n",
              "V15                0.048072\n",
              "V16                0.066413\n",
              "V17               -0.065676\n",
              "V18               -0.003636\n",
              "V19                0.003735\n",
              "V20               -0.062481\n",
              "V21               -0.029450\n",
              "V22                0.006782\n",
              "V23               -0.011193\n",
              "V24                0.040976\n",
              "V25                0.016594\n",
              "V26               -0.052139\n",
              "V27                0.001342\n",
              "V28                0.011244\n",
              "Amount            22.000000\n",
              "Class              0.000000\n",
              "dtype: float64"
            ]
          },
          "metadata": {},
          "execution_count": 13
        }
      ]
    },
    {
      "cell_type": "markdown",
      "source": [
        "La media se puede interpretar como el centro de masa del histograma. \n",
        "La media es muy sensible a valores extremos.\n",
        "La mediana es más robusta a valores extremos.\n",
        "Si la distribución de los datos es simétrica, las medidas coinciden."
      ],
      "metadata": {
        "id": "1d2F5ss9r8t5"
      }
    },
    {
      "cell_type": "code",
      "source": [
        "## La diferencia entre media y mediana para Amount\n",
        "fig, axes = plt.subplots(nrows=2, figsize=(16, 8))\n",
        "sns.histplot(df[Amount], bins=100, ax=axes[0], color='gray')\n",
        "axes[0].axvline(df[Amount].mean(), color='orangered',\n",
        "            linestyle='--', label='Media')\n",
        "axes[0].axvline(df[Amount].median(), color='indigo',\n",
        "            linestyle='-.', label='Mediana')\n",
        "filtered_df = df[df[Amount] < 80]\n",
        "sns.histplot(filtered_df[Amount], bins=100, ax=axes[1], color='gray')\n",
        "axes[1].axvline(filtered_df[Amount].mean(), color='orangered',\n",
        "            linestyle='--', label='Media')\n",
        "axes[1].axvline(filtered_df[Amount].median(), color='indigo',\n",
        "            linestyle='-.', label='Mediana')\n",
        "\n",
        "\n",
        "axes[0].legend()\n",
        "sns.despine()"
      ],
      "metadata": {
        "colab": {
          "base_uri": "https://localhost:8080/",
          "height": 500
        },
        "id": "YKcT8bd6scrx",
        "outputId": "960edd57-c2c8-46f0-f1d7-ccd14c3fc4d5"
      },
      "execution_count": 14,
      "outputs": [
        {
          "output_type": "display_data",
          "data": {
            "text/plain": [
              "<Figure size 1152x576 with 2 Axes>"
            ],
            "image/png": "[encoded data removed]"
          },
          "metadata": {
            "needs_background": "light"
          }
        }
      ]
    },
    {
      "cell_type": "code",
      "source": [
        "## La diferencia entre media y mediana para Time\n",
        "fig, axes = plt.subplots(nrows=2, figsize=(16, 8))\n",
        "sns.histplot(df[Time], bins=100, ax=axes[0], color='gray')\n",
        "axes[0].axvline(df[Time].mean(), color='orangered',\n",
        "            linestyle='--', label='Media')\n",
        "axes[0].axvline(df[Time].median(), color='indigo',\n",
        "            linestyle='-.', label='Mediana')\n",
        "filtered_df = df[df[Time] < 70000]\n",
        "sns.histplot(filtered_df[Time], bins=100, ax=axes[1], color='gray')\n",
        "axes[1].axvline(filtered_df[Time].mean(), color='orangered',\n",
        "            linestyle='--', label='Media')\n",
        "axes[1].axvline(filtered_df[Time].median(), color='indigo',\n",
        "            linestyle='-.', label='Mediana')\n",
        "\n",
        "\n",
        "axes[0].legend()\n",
        "sns.despine()"
      ],
      "metadata": {
        "colab": {
          "base_uri": "https://localhost:8080/",
          "height": 502
        },
        "id": "O9oxUceM7xli",
        "outputId": "4d41b623-1e6a-407b-d6fe-703bd3cbe1e8"
      },
      "execution_count": 15,
      "outputs": [
        {
          "output_type": "display_data",
          "data": {
            "text/plain": [
              "<Figure size 1152x576 with 2 Axes>"
            ],
            "image/png": "[encoded data removed]"
          },
          "metadata": {
            "needs_background": "light"
          }
        }
      ]
    },
    {
      "cell_type": "markdown",
      "source": [
        "Explore esto para distintos conjuntos de valores, por ejemplo, dividiendo la variable con bines de valores de intervalos de 20 [20, 40, 80, 100, max_amount], para ver si la distribución es simétrica en alguno de los mismos."
      ],
      "metadata": {
        "id": "hJ5vgTfgBobC"
      }
    },
    {
      "cell_type": "code",
      "source": [
        "print(\"\\nCantidad de segundos que tiene cada cuartil:\")\n",
        "print(\"\\tQ1:\",round(df.describe().transpose()[\"25%\"][0],2),\", es decir, el\",\n",
        "      round(df.describe().transpose()[\"25%\"][0]/df.describe().transpose()[\"max\"][0]*100,2),\"% del tiempo.\" )\n",
        "print(\"\\tQ2:\",round(df.describe().transpose()[\"50%\"][0]-df.describe().transpose()[\"25%\"][0],2),\n",
        "      \", es decir, el\",\n",
        "      round((df.describe().transpose()[\"50%\"][0]-df.describe().transpose()[\"25%\"][0])/df.describe().transpose()[\"max\"][0]*100,2),\"% del tiempo.\" )\n",
        "print(\"\\tQ3:\",round(df.describe().transpose()[\"75%\"][0]-df.describe().transpose()[\"50%\"][0],2),\n",
        "      \", es decir, el\",\n",
        "      round((df.describe().transpose()[\"75%\"][0]-df.describe().transpose()[\"50%\"][0])/df.describe().transpose()[\"max\"][0]*100,2),\"% del tiempo.\" )\n",
        "print(\"\\tQ4:\",round(df.describe().transpose()[\"max\"][0]-df.describe().transpose()[\"75%\"][0],2),\n",
        "      \", es decir, el\",\n",
        "      round((df.describe().transpose()[\"max\"][0]-df.describe().transpose()[\"75%\"][0])/df.describe().transpose()[\"max\"][0]*100,2),\"% del tiempo.\" )\n",
        "print(\"Lo cual nos indica que las transacciones no se realizaron de manera homogenea en el tiempo sin\",\n",
        "      \"necesidad de hacer ningún gráfico.\")"
      ],
      "metadata": {
        "colab": {
          "base_uri": "https://localhost:8080/"
        },
        "id": "CZIqUrZFvtvE",
        "outputId": "b62c428c-1c9d-45ab-89e1-5f458dded585"
      },
      "execution_count": 16,
      "outputs": [
        {
          "output_type": "stream",
          "name": "stdout",
          "text": [
            "\n",
            "Cantidad de segundos que tiene cada cuartil:\n",
            "\tQ1: 71201.5 , es decir, el 25.0 % del tiempo.\n",
            "\tQ2: 71201.5 , es decir, el 25.0 % del tiempo.\n",
            "\tQ3: 71201.5 , es decir, el 25.0 % del tiempo.\n",
            "\tQ4: 71201.5 , es decir, el 25.0 % del tiempo.\n",
            "Lo cual nos indica que las transacciones no se realizaron de manera homogenea en el tiempo sin necesidad de hacer ningún gráfico.\n"
          ]
        }
      ]
    },
    {
      "cell_type": "code",
      "source": [
        "print(\"Respecto a la columna Amount, podemos ver algo muy interesante: mientras que su media es de\",\n",
        "     \"aproximadamente\",round(df.describe().transpose()[\"mean\"][29],2),\"el valor de Amount que es mayor al\",\n",
        "     \"75% de los casos es\", round(df.describe().transpose()[\"75%\"][29],2),\". Lo cual nos dice que los valores\",\n",
        "     \"más elevados de esta columna hacen que la media no sea representativa del conjunto.\")"
      ],
      "metadata": {
        "colab": {
          "base_uri": "https://localhost:8080/"
        },
        "id": "oOf908hQv8c2",
        "outputId": "3c3c5bb3-3a72-4e8b-888d-4f3171d02d3e"
      },
      "execution_count": 17,
      "outputs": [
        {
          "output_type": "stream",
          "name": "stdout",
          "text": [
            "Respecto a la columna Amount, podemos ver algo muy interesante: mientras que su media es de aproximadamente -0.0 el valor de Amount que es mayor al 75% de los casos es 0.08 . Lo cual nos dice que los valores más elevados de esta columna hacen que la media no sea representativa del conjunto.\n"
          ]
        }
      ]
    },
    {
      "cell_type": "code",
      "source": [
        "#2.2\n",
        "\n",
        "# Ploteo de los histogramas de la columna Time con diferente cantidad de bins.\n",
        "fig, (ax1, ax2, ax3, ax4, ax5) = plt.subplots(5,1,sharey=True,figsize=(15,15))\n",
        "ax1.hist(df.Time,bins=20)\n",
        "ax1.set(ylabel=\"Frecuency\")\n",
        "ax2.hist(df.Time,bins=40)\n",
        "ax2.set(ylabel=\"Frecuency\")\n",
        "ax3.hist(df.Time,bins=60)\n",
        "ax3.set(ylabel=\"Frecuency\")\n",
        "ax4.hist(df.Time,bins=80)\n",
        "ax4.set(ylabel=\"Frecuency\")\n",
        "ax5.hist(df.Time,bins=100)\n",
        "ax5.set(ylabel=\"Frecuency\",xlabel=\"Time\")\n",
        "plt.show()\n",
        "\n",
        "print(\"Se puede ver en los histogramas, para todo número de bins probados (20, 40, 50, 80 y 100),\",\n",
        "      \"que la distribución de las transacciones en el tiempo no es uniforme.\")"
      ],
      "metadata": {
        "id": "LacMXJbkBqP0",
        "colab": {
          "base_uri": "https://localhost:8080/",
          "height": 920
        },
        "outputId": "5367a1f3-d88c-41cf-ad2b-0a35ab7837c0"
      },
      "execution_count": 18,
      "outputs": [
        {
          "output_type": "display_data",
          "data": {
            "text/plain": [
              "<Figure size 1080x1080 with 5 Axes>"
            ],
            "image/png": "[encoded data removed]"
          },
          "metadata": {
            "needs_background": "light"
          }
        },
        {
          "output_type": "stream",
          "name": "stdout",
          "text": [
            "Se puede ver en los histogramas, para todo número de bins probados (20, 40, 50, 80 y 100), que la distribución de las transacciones en el tiempo no es uniforme.\n"
          ]
        }
      ]
    },
    {
      "cell_type": "code",
      "source": [
        "# Ploteo del histograma de la columna Amount.\n",
        "plt.hist(df.Amount)\n",
        "plt.xlabel(\"Amount\")\n",
        "plt.ylabel(\"Frequency\")\n",
        "plt.show()\n",
        "\n",
        "print(\"El histograma de la columna Amount es raro, queda desproporcionado por algunos outliers.\",\n",
        "     \"Vamos a eliminar los valores extremos para que no nos distorcione esta visualización.\")\n",
        "\n",
        "# Removemos las transacciones pertenecientes al 1% más grande.\n",
        "df_New = df[df[\"Amount\"] < df[\"Amount\"].quantile(99/100)]\n",
        "\n",
        "# Ploteo del histograma de la columna Amount sin outliers.\n",
        "plt.hist(df_New.Amount)\n",
        "plt.xlabel(\"Amount\")\n",
        "plt.ylabel(\"Frequency\")\n",
        "plt.show()\n",
        "\n",
        "print(\"Ahora que está más uniforme variemos la cantidad de bines.\")\n",
        "\n",
        "# Ploteo de los histogramas de la columna Time con diferente cantidad de bins.\n",
        "fig, (ax1, ax2, ax3, ax4, ax5) = plt.subplots(5,1,sharey=True,figsize=(15,15))\n",
        "ax1.hist(df_New.Amount,bins=20)\n",
        "ax1.set(ylabel=\"Frecuency\")\n",
        "ax2.hist(df_New.Amount,bins=40)\n",
        "ax2.set(ylabel=\"Frecuency\")\n",
        "ax3.hist(df_New.Amount,bins=60)\n",
        "ax3.set(ylabel=\"Frecuency\")\n",
        "ax4.hist(df_New.Amount,bins=80)\n",
        "ax4.set(ylabel=\"Frecuency\")\n",
        "ax5.hist(df_New.Amount,bins=100)\n",
        "ax5.set(ylabel=\"Frecuency\",xlabel=\"Amount\")\n",
        "plt.show()\n",
        "\n",
        "print(\"Se puede observar que hay una gran mayoría de las transacciones con transacciones menores a 200.\")"
      ],
      "metadata": {
        "colab": {
          "base_uri": "https://localhost:8080/",
          "height": 1000
        },
        "id": "GdG3Uptpw3pl",
        "outputId": "7e599982-ced7-49df-d225-30de963ced25"
      },
      "execution_count": 19,
      "outputs": [
        {
          "output_type": "display_data",
          "data": {
            "text/plain": [
              "<Figure size 432x288 with 1 Axes>"
            ],
            "image/png": "[encoded data removed]"
          },
          "metadata": {
            "needs_background": "light"
          }
        },
        {
          "output_type": "stream",
          "name": "stdout",
          "text": [
            "El histograma de la columna Amount es raro, queda desproporcionado por algunos outliers. Vamos a eliminar los valores extremos para que no nos distorcione esta visualización.\n"
          ]
        },
        {
          "output_type": "display_data",
          "data": {
            "text/plain": [
              "<Figure size 432x288 with 1 Axes>"
            ],
            "image/png": "[encoded data removed]"
          },
          "metadata": {
            "needs_background": "light"
          }
        },
        {
          "output_type": "stream",
          "name": "stdout",
          "text": [
            "Ahora que está más uniforme variemos la cantidad de bines.\n"
          ]
        },
        {
          "output_type": "display_data",
          "data": {
            "text/plain": [
              "<Figure size 1080x1080 with 5 Axes>"
            ],
            "image/png": "[encoded data removed]"
          },
          "metadata": {
            "needs_background": "light"
          }
        },
        {
          "output_type": "stream",
          "name": "stdout",
          "text": [
            "Se puede observar que hay una gran mayoría de las transacciones con transacciones menores a 200.\n"
          ]
        }
      ]
    },
    {
      "cell_type": "markdown",
      "source": [
        "Analizando la columna class (el target). ¿Cómo describirían la distribución de la misma? Usen un gráfico para mostrar dicha distribución."
      ],
      "metadata": {
        "id": "Cd2E4Ms8YGJG"
      }
    },
    {
      "cell_type": "code",
      "source": [
        "Class = 'Class' \n",
        "df['Class'].value_counts()"
      ],
      "metadata": {
        "colab": {
          "base_uri": "https://localhost:8080/"
        },
        "id": "25xLt2InDjZI",
        "outputId": "e8f1947d-4857-47ba-b517-aada8855f09c"
      },
      "execution_count": 20,
      "outputs": [
        {
          "output_type": "execute_result",
          "data": {
            "text/plain": [
              "0    284315\n",
              "1       492\n",
              "Name: Class, dtype: int64"
            ]
          },
          "metadata": {},
          "execution_count": 20
        }
      ]
    },
    {
      "cell_type": "markdown",
      "source": [
        "Tan solo el 0.2% de los casos es fraudulento. Es un dataset desbalanceado."
      ],
      "metadata": {
        "id": "eEPSEdmexenX"
      }
    },
    {
      "cell_type": "code",
      "source": [
        "sns.histplot(x='Class', data=df)"
      ],
      "metadata": {
        "colab": {
          "base_uri": "https://localhost:8080/",
          "height": 302
        },
        "id": "o6sxkUIKVrHJ",
        "outputId": "b88f3d05-625c-4483-c9fe-f3cd0759666b"
      },
      "execution_count": 21,
      "outputs": [
        {
          "output_type": "execute_result",
          "data": {
            "text/plain": [
              "<matplotlib.axes._subplots.AxesSubplot at 0x7ffb8ed7bcd0>"
            ]
          },
          "metadata": {},
          "execution_count": 21
        },
        {
          "output_type": "display_data",
          "data": {
            "text/plain": [
              "<Figure size 432x288 with 1 Axes>"
            ],
            "image/png": "[encoded data removed]"
          },
          "metadata": {
            "needs_background": "light"
          }
        }
      ]
    },
    {
      "cell_type": "code",
      "source": [
        "is_fraud = df.Class == '1'\n",
        "\n",
        "groupA = df[is_fraud].Class\n",
        "groupB = df[~is_fraud].Class"
      ],
      "metadata": {
        "id": "HkxgYzeo1bQ5"
      },
      "execution_count": 22,
      "outputs": []
    },
    {
      "cell_type": "code",
      "source": [
        "plt.figure(figsize=(10, 10))\n",
        "sns.histplot(data=df, x='Time', y = groupA, color='blue')      \n"
      ],
      "metadata": {
        "colab": {
          "base_uri": "https://localhost:8080/",
          "height": 628
        },
        "id": "OTc8TdY1PdQV",
        "outputId": "e5ffd971-93b3-4df1-f111-03d9dcb27688"
      },
      "execution_count": 23,
      "outputs": [
        {
          "output_type": "execute_result",
          "data": {
            "text/plain": [
              "<matplotlib.axes._subplots.AxesSubplot at 0x7ffb8b29f690>"
            ]
          },
          "metadata": {},
          "execution_count": 23
        },
        {
          "output_type": "display_data",
          "data": {
            "text/plain": [
              "<Figure size 720x720 with 1 Axes>"
            ],
            "image/png": "[encoded data removed]"
          },
          "metadata": {
            "needs_background": "light"
          }
        }
      ]
    },
    {
      "cell_type": "code",
      "source": [
        "plt.figure(figsize=(10, 10))\n",
        "plt.plot(df['Time'], df['Amount'])      \n"
      ],
      "metadata": {
        "colab": {
          "base_uri": "https://localhost:8080/",
          "height": 611
        },
        "id": "mLwlPrbwkeHP",
        "outputId": "39629c6b-1239-4261-c518-fb3c879ce31a"
      },
      "execution_count": 24,
      "outputs": [
        {
          "output_type": "execute_result",
          "data": {
            "text/plain": [
              "[<matplotlib.lines.Line2D at 0x7ffb8b769fd0>]"
            ]
          },
          "metadata": {},
          "execution_count": 24
        },
        {
          "output_type": "display_data",
          "data": {
            "text/plain": [
              "<Figure size 720x720 with 1 Axes>"
            ],
            "image/png": "[encoded data removed]"
          },
          "metadata": {
            "needs_background": "light"
          }
        }
      ]
    },
    {
      "cell_type": "code",
      "source": [
        "plt.figure(figsize=(12, 6))\n",
        "sns.boxenplot(data=df, x='Amount', y='Time',\n",
        "                color='orangered')\n",
        "plt.ticklabel_format(style='plain', axis='x')"
      ],
      "metadata": {
        "id": "jcOo43w7lovQ"
      },
      "execution_count": null,
      "outputs": []
    }
  ]
}